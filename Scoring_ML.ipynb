{
 "cells": [
  {
   "cell_type": "code",
   "execution_count": null,
   "metadata": {},
   "outputs": [],
   "source": [
    "import pandas as pd\n",
    "import numpy as np\n",
    "from sklearn.model_selection import train_test_split, cross_val_score, GridSearchCV\n",
    "\n",
    "\n",
    "df = pd.read_excel(\"Scoring_9.xlsx\")\n",
    "df.head()"
   ]
  },
  {
   "cell_type": "code",
   "execution_count": null,
   "metadata": {},
   "outputs": [],
   "source": [
    "# Data preprocessing\n",
    "median_columns = [\n",
    "    'gender', 'dependants', \n",
    "    'maritalstatus', \n",
    "    'incomes', 'work_experience',\n",
    "    'incomes_bdki_int', \n",
    "    'incomes_bdki_int_indxd'\n",
    "    ]\n",
    "mean_columns = [\n",
    "    'sum_outstandingamount',\n",
    "    'max_dpd_before_startdate'\n",
    "]    \n",
    "df['startdate'] = pd.to_numeric(pd.DatetimeIndex(df['startdate']).year)\n",
    "df[df['max_dpd_before_startdate'] == -9999.0] = 0\n",
    "df = df.drop(['incomes_bdki'], axis=1, errors='ignore')\n",
    "\n",
    "for i in median_columns:\n",
    "  df[i] = df[i].fillna(df[i].median())\n",
    "\n",
    "for i in mean_columns:\n",
    "  df[i] = df[i].fillna(df[i].mean())\n",
    "\n",
    "df.isna().sum()\n",
    "df.head()"
   ]
  },
  {
   "cell_type": "code",
   "execution_count": null,
   "metadata": {},
   "outputs": [],
   "source": [
    "y = df.loc[:,'GB_flag']\n",
    "X = df.drop(columns=['GB_flag'])"
   ]
  },
  {
   "cell_type": "code",
   "execution_count": null,
   "metadata": {},
   "outputs": [],
   "source": [
    "from sklearn.metrics import make_scorer, roc_auc_score\n",
    "def gini_normalized(y_actual, y_pred):\n",
    "    \"\"\"Simple normalized Gini based on Scikit-Learn's roc_auc_score\"\"\"\n",
    "    gini = lambda a, p: 2 * roc_auc_score(a, p) - 1\n",
    "    return gini(y_actual, y_pred) / gini(y_actual, y_actual)"
   ]
  },
  {
   "cell_type": "code",
   "execution_count": null,
   "metadata": {},
   "outputs": [],
   "source": [
    "from sklearn.linear_model import ElasticNet\n",
    "from sklearn.model_selection import RepeatedKFold\n",
    "\n",
    "model = ElasticNet(alpha=1.0, l1_ratio=0.5)\n",
    "\n",
    "cv = RepeatedKFold(n_splits=10, n_repeats=3, random_state=1)\n",
    "\n",
    "gini = cross_val_score(model, X, y, scoring=make_scorer(gini_normalized), cv=cv, n_jobs=-1)\n",
    "\n",
    "\n",
    "gini = np.absolute(gini)\n",
    "print('Gini score: %.3f ' % (np.mean(gini)))"
   ]
  }
 ],
 "metadata": {
  "language_info": {
   "name": "python"
  },
  "orig_nbformat": 4
 },
 "nbformat": 4,
 "nbformat_minor": 2
}
