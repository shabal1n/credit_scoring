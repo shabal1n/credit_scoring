{
 "cells": [
  {
   "cell_type": "code",
   "execution_count": null,
   "metadata": {},
   "outputs": [],
   "source": [
    "import pandas as pd\n",
    "import numpy as np\n",
    "from sklearn.model_selection import train_test_split, cross_val_score, GridSearchCV\n",
    "\n",
    "\n",
    "df = pd.read_excel(\"/data/Scoring_9.xlsx\")\n",
    "df.head()"
   ]
  },
  {
   "cell_type": "code",
   "execution_count": null,
   "metadata": {},
   "outputs": [],
   "source": [
    "with open('/data/foo.txt', 'w') as f:\n",
    "  f.write('Gini: ' + \"results.best_score_\")\n",
    "  f.write('Config: ' + \"esults.best_params_\")"
   ]
  },
  {
   "cell_type": "code",
   "execution_count": null,
   "metadata": {},
   "outputs": [],
   "source": [
    "# Data preprocessing\n",
    "median_columns = [\n",
    "    'gender', 'dependants', \n",
    "    'maritalstatus', \n",
    "    'incomes', 'work_experience',\n",
    "    'incomes_bdki_int', \n",
    "    'incomes_bdki_int_indxd'\n",
    "    ]\n",
    "mean_columns = [\n",
    "    'sum_outstandingamount',\n",
    "    'max_dpd_before_startdate'\n",
    "]    \n",
    "df['startdate'] = pd.to_numeric(pd.DatetimeIndex(df['startdate']).year)\n",
    "df[df['max_dpd_before_startdate'] == -9999.0] = 0\n",
    "df = df.drop(['incomes_bdki'], axis=1, errors='ignore')\n",
    "\n",
    "for i in median_columns:\n",
    "  df[i] = df[i].fillna(df[i].median())\n",
    "\n",
    "for i in mean_columns:\n",
    "  df[i] = df[i].fillna(df[i].mean())\n",
    "\n",
    "df.isna().sum()\n",
    "df.head()"
   ]
  },
  {
   "cell_type": "code",
   "execution_count": null,
   "metadata": {},
   "outputs": [],
   "source": [
    "y = df.loc[:,'GB_flag']\n",
    "X = df.drop(columns=['GB_flag'])"
   ]
  },
  {
   "cell_type": "code",
   "execution_count": null,
   "metadata": {},
   "outputs": [],
   "source": [
    "from sklearn.metrics import make_scorer, roc_auc_score\n",
    "def gini_normalized(y_actual, y_pred):\n",
    "    \"\"\"Simple normalized Gini based on Scikit-Learn's roc_auc_score\"\"\"\n",
    "    gini = lambda a, p: 2 * roc_auc_score(a, p) - 1\n",
    "    return gini(y_actual, y_pred) / gini(y_actual, y_actual)"
   ]
  },
  {
   "cell_type": "code",
   "execution_count": null,
   "metadata": {},
   "outputs": [],
   "source": [
    "from sklearn.model_selection import GridSearchCV\n",
    "from sklearn.model_selection import RepeatedKFold\n",
    "from sklearn.linear_model import ElasticNet\n",
    "\n",
    "model = ElasticNet()\n",
    "cv = RepeatedKFold(n_splits=10, n_repeats=3, random_state=1)\n",
    "\n",
    "grid = dict()\n",
    "grid['alpha'] = [1e-5, 1e-4, 1e-3, 1e-2, 1e-1, 0.0, 1.0, 10.0, 100.0]\n",
    "grid['l1_ratio'] = np.arange(0, 1, 0.01)\n",
    "\n",
    "search = GridSearchCV(model, grid, scoring=make_scorer(gini_normalized), cv=cv, n_jobs=-1)\n",
    "\n",
    "results = search.fit(X, y)\n",
    "with open('/data/foo.txt', 'w') as f:\n",
    "  f.write('Gini: ' + results.best_score_)\n",
    "  f.write('Config: ' + results.best_params_)\n",
    "print('Gini: %.3f' % results.best_score_)\n",
    "print('Config: %s' % results.best_params_)"
   ]
  }
 ],
 "metadata": {
  "language_info": {
   "name": "python"
  },
  "orig_nbformat": 4
 },
 "nbformat": 4,
 "nbformat_minor": 2
}
